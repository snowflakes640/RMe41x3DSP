{
 "cells": [
  {
   "cell_type": "code",
   "execution_count": 29,
   "metadata": {},
   "outputs": [],
   "source": [
    "import numpy as np\n",
    "import math"
   ]
  },
  {
   "cell_type": "code",
   "execution_count": 30,
   "metadata": {},
   "outputs": [],
   "source": [
    "# Generating y values for x inputs in dynamic funcitons\n",
    "\n",
    "def generate_values(func, values):\n",
    "    return np.array([func(i) for i in values])"
   ]
  },
  {
   "cell_type": "code",
   "execution_count": 31,
   "metadata": {},
   "outputs": [],
   "source": [
    "# The main function to check whether the function is even or odd\n",
    "\n",
    "def func_type(func):\n",
    "    x_values = np.arange(-50, 50, 1)\n",
    "    invx_values = x_values*(-1)\n",
    "\n",
    "    y_values = generate_values(func, x_values)\n",
    "    invy_values = generate_values(func, invx_values)\n",
    "    \n",
    "    \n",
    "    if np.array_equal(y_values, invy_values): print(\"The signal function is even\")\n",
    "    elif np.array_equal(y_values, -1*invy_values): print(\"The signal function is odd\")\n",
    "    else: print(\"The signal function is neither even nor odd\")\n",
    "\n"
   ]
  },
  {
   "cell_type": "markdown",
   "metadata": {},
   "source": [
    "The function below can be used to check different signals by customized functions"
   ]
  },
  {
   "cell_type": "code",
   "execution_count": 36,
   "metadata": {},
   "outputs": [],
   "source": [
    "# Creating customized function\n",
    "\n",
    "def dynamic_func(x):\n",
    "    return pow(x,3)\n",
    "\n",
    "# def dynamic_func(x):\n",
    "#     return pow(x,2)\n",
    "\n",
    "# def dynamic_func(x):\n",
    "#     return math.sin(x)\n",
    "\n",
    "# def dynamic_func(x):\n",
    "#     return math.cos(x)\n"
   ]
  },
  {
   "cell_type": "code",
   "execution_count": 37,
   "metadata": {},
   "outputs": [
    {
     "name": "stdout",
     "output_type": "stream",
     "text": [
      "The signal function is odd\n"
     ]
    }
   ],
   "source": [
    "func_type(dynamic_func)"
   ]
  }
 ],
 "metadata": {
  "kernelspec": {
   "display_name": "base",
   "language": "python",
   "name": "python3"
  },
  "language_info": {
   "codemirror_mode": {
    "name": "ipython",
    "version": 3
   },
   "file_extension": ".py",
   "mimetype": "text/x-python",
   "name": "python",
   "nbconvert_exporter": "python",
   "pygments_lexer": "ipython3",
   "version": "3.11.4"
  }
 },
 "nbformat": 4,
 "nbformat_minor": 2
}
